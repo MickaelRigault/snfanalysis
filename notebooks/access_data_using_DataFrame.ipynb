{
 "cells": [
  {
   "cell_type": "markdown",
   "metadata": {},
   "source": [
    "# Access Data\n",
    "\n",
    "This module is based on Pandas to access the data as a `DataFrame` object. "
   ]
  },
  {
   "cell_type": "markdown",
   "metadata": {},
   "source": [
    "#### Basic import"
   ]
  },
  {
   "cell_type": "code",
   "execution_count": 1,
   "metadata": {
    "collapsed": true
   },
   "outputs": [],
   "source": [
    "%matplotlib inline\n",
    "import warnings\n",
    "## No annoying warnings\n",
    "warnings.filterwarnings('ignore')"
   ]
  },
  {
   "cell_type": "code",
   "execution_count": 2,
   "metadata": {
    "collapsed": false
   },
   "outputs": [],
   "source": [
    "import numpy as np\n",
    "import snfanalysis as snf\n",
    "import pandas as pd"
   ]
  },
  {
   "cell_type": "markdown",
   "metadata": {},
   "source": [
    "## Analysis_Frame, the base object for the snf analysis\n",
    "\n",
    "The snfanalysis.io module contains several function and enable to access the various snf data. Two are directly accessible from the snf module:\n",
    "* analysis_dataframe()\n",
    "* get_source()\n",
    "\n",
    "The first is the one to use to get the high level DataFrame we are going to use, while the second returns the  dictionary corresponding to a source of snf data. The dataframe is actually built using get_source().\n",
    "A Preselection is made when requesting the dataframe. Shall an information be missing, you can retrive it using the get_sources()."
   ]
  },
  {
   "cell_type": "code",
   "execution_count": 3,
   "metadata": {
    "collapsed": false
   },
   "outputs": [],
   "source": [
    "analysis_frame = snf.analysis_dataframe()"
   ]
  },
  {
   "cell_type": "markdown",
   "metadata": {},
   "source": [
    "It contains a lot of information, some from salt2 (e.g. salt2.Color), some from the phrenology (starting with phrenology) etc."
   ]
  },
  {
   "cell_type": "code",
   "execution_count": 4,
   "metadata": {
    "collapsed": false
   },
   "outputs": [
    {
     "data": {
      "text/plain": [
       "Index([    u'hubblizer.dmfit_corr', u'hubblizer.dmfit_corr.err',\n",
       "           u'hubblizer.dmfit_orig', u'hubblizer.dmfit_orig.err',\n",
       "                      u'host.zcmb',              u'host.zhelio',\n",
       "                u'host.zhelio.err',           u'idr.saltprefix',\n",
       "                     u'idr.subset',              u'salt2.Color',\n",
       "       ...\n",
       "           u'phrenology.RSiII5972', u'phrenology.RSiII5972.err',\n",
       "           u'phrenology.RSiII6355', u'phrenology.RSiII6355.err',\n",
       "                u'phrenology.RSiS',      u'phrenology.RSiS.err',\n",
       "               u'phrenology.RSiSS',     u'phrenology.RSiSS.err',\n",
       "                u'phrenology.Rsjb',      u'phrenology.Rsjb.err'],\n",
       "      dtype='object', length=110)"
      ]
     },
     "execution_count": 4,
     "metadata": {},
     "output_type": "execute_result"
    }
   ],
   "source": [
    "analysis_frame.columns"
   ]
  },
  {
   "cell_type": "markdown",
   "metadata": {},
   "source": [
    "Let's do the basic Bailey Ratio plot right from the box"
   ]
  },
  {
   "cell_type": "code",
   "execution_count": 48,
   "metadata": {
    "collapsed": false
   },
   "outputs": [
    {
     "data": {
      "image/png": "[encoded data removed]",
      "text/plain": [
       "<matplotlib.figure.Figure at 0x1088509d0>"
      ]
     },
     "metadata": {},
     "output_type": "display_data"
    }
   ],
   "source": [
    "import matplotlib\n",
    "matplotlib.style.use('grayscale')\n",
    "pl = analysis_frame.plot.scatter(x=\"phrenology.Rsjb\",y=\"hubblizer.dmfit_orig\",s=80)"
   ]
  },
  {
   "cell_type": "markdown",
   "metadata": {},
   "source": [
    "## Create a new Columns: the local specific star formation rate\n",
    "\n",
    "Some of the host parameters are not in the table yet, e.g., the local ssfr. In few lines we will build it.\n",
    "\n",
    "First of All, we will clean the sfr entry to remove the that are way below the core of the distribution. These points have such a low value because there is not Halpha (fit converged somewhere close to 0) and the distance (flux-> lum) conversion moved them to extremely low values. We fix that in the sfr_clean entry setting all the values below `10**-6` to be `10**-6`."
   ]
  },
  {
   "cell_type": "code",
   "execution_count": 8,
   "metadata": {
    "collapsed": false
   },
   "outputs": [
    {
     "name": "stdout",
     "output_type": "stream",
     "text": [
      "Minimum value of the old and new sfr columns 8.79740689374e-21 1e-06\n"
     ]
    }
   ],
   "source": [
    "# Creation of the new columns\n",
    "analysis_frame['sfr_clean'] = analysis_frame['sfr'].apply(lambda x: 10**-6 if x<10**-6 else x)\n",
    "analysis_frame['sfr_clean'].head()\n",
    "print \"Minimum value of the old and new sfr columns\", analysis_frame['sfr'].min(),analysis_frame['sfr_clean'].min()"
   ]
  },
  {
   "cell_type": "code",
   "execution_count": 9,
   "metadata": {
    "collapsed": true
   },
   "outputs": [],
   "source": [
    "# and let create the localssfr\n",
    "analysis_frame['lssfr'] = np.log10(analysis_frame['sfr_clean'].astype(\"float\")) - analysis_frame['localmass']"
   ]
  },
  {
   "cell_type": "markdown",
   "metadata": {},
   "source": [
    "What is the distribution of observed `lssfr`?"
   ]
  },
  {
   "cell_type": "code",
   "execution_count": 10,
   "metadata": {
    "collapsed": true
   },
   "outputs": [],
   "source": [
    "lssfr = analysis_frame.get('lssfr')"
   ]
  },
  {
   "cell_type": "code",
   "execution_count": 49,
   "metadata": {
    "collapsed": false
   },
   "outputs": [
    {
     "data": {
      "text/plain": [
       "<matplotlib.axes._subplots.AxesSubplot at 0x107d29310>"
      ]
     },
     "execution_count": 49,
     "metadata": {},
     "output_type": "execute_result"
    },
    {
     "data": {
      "image/png": "[encoded data removed]",
      "text/plain": [
       "<matplotlib.figure.Figure at 0x106b62210>"
      ]
     },
     "metadata": {},
     "output_type": "display_data"
    }
   ],
   "source": [
    "lssfr.plot.hist()"
   ]
  },
  {
   "cell_type": "markdown",
   "metadata": {},
   "source": [
    "## Cleaning the analysis frame: build one on the good sample within a redshift range [0.023,0.08]\n",
    "\n",
    "The mask() method of the DataFrame enables to set NaN to all rows that do not follow the columns criteria. \n",
    "\n",
    "**Remark** the masking condition are _this you do not want_"
   ]
  },
  {
   "cell_type": "code",
   "execution_count": 17,
   "metadata": {
    "collapsed": false
   },
   "outputs": [],
   "source": [
    "cleaned_frame = analysis_frame.mask(~(analysis_frame['idr.subset'].isin([\"training\",\"validation\"])) | \n",
    "                                    (analysis_frame['host.zcmb']<0.023) | (analysis_frame['host.zcmb']>0.08))"
   ]
  },
  {
   "cell_type": "code",
   "execution_count": 19,
   "metadata": {
    "collapsed": false
   },
   "outputs": [
    {
     "data": {
      "text/html": [
       "<div>\n",
       "<table border=\"1\" class=\"dataframe\">\n",
       "  <thead>\n",
       "    <tr style=\"text-align: right;\">\n",
       "      <th></th>\n",
       "      <th>hubblizer.dmfit_corr</th>\n",
       "      <th>hubblizer.dmfit_corr.err</th>\n",
       "      <th>hubblizer.dmfit_orig</th>\n",
       "      <th>hubblizer.dmfit_orig.err</th>\n",
       "      <th>host.zcmb</th>\n",
       "      <th>host.zhelio</th>\n",
       "      <th>host.zhelio.err</th>\n",
       "      <th>idr.saltprefix</th>\n",
       "      <th>idr.subset</th>\n",
       "      <th>salt2.Color</th>\n",
       "      <th>...</th>\n",
       "      <th>phrenology.RSiII6355</th>\n",
       "      <th>phrenology.RSiII6355.err</th>\n",
       "      <th>phrenology.RSiS</th>\n",
       "      <th>phrenology.RSiS.err</th>\n",
       "      <th>phrenology.RSiSS</th>\n",
       "      <th>phrenology.RSiSS.err</th>\n",
       "      <th>phrenology.Rsjb</th>\n",
       "      <th>phrenology.Rsjb.err</th>\n",
       "      <th>sfr_clean</th>\n",
       "      <th>lssfr</th>\n",
       "    </tr>\n",
       "  </thead>\n",
       "  <tbody>\n",
       "    <tr>\n",
       "      <th>CSS110918_01</th>\n",
       "      <td>-0.0294581</td>\n",
       "      <td>0.762511</td>\n",
       "      <td>-0.622986</td>\n",
       "      <td>0.754786</td>\n",
       "      <td>0.0289397</td>\n",
       "      <td>0.03</td>\n",
       "      <td>0.01</td>\n",
       "      <td>salt2</td>\n",
       "      <td>validation</td>\n",
       "      <td>-0.146145</td>\n",
       "      <td>...</td>\n",
       "      <td>0.777881</td>\n",
       "      <td>0.0341189</td>\n",
       "      <td>1.55017</td>\n",
       "      <td>0.0166346</td>\n",
       "      <td>1.26427</td>\n",
       "      <td>0.00243123</td>\n",
       "      <td>0.514112</td>\n",
       "      <td>0</td>\n",
       "      <td>0.000207</td>\n",
       "      <td>NaN</td>\n",
       "    </tr>\n",
       "    <tr>\n",
       "      <th>CSS110918_02</th>\n",
       "      <td>-0.0108683</td>\n",
       "      <td>0.126627</td>\n",
       "      <td>-0.168042</td>\n",
       "      <td>0.0655631</td>\n",
       "      <td>0.038086</td>\n",
       "      <td>0.03935</td>\n",
       "      <td>6.7e-05</td>\n",
       "      <td>salt2</td>\n",
       "      <td>training</td>\n",
       "      <td>-0.0600834</td>\n",
       "      <td>...</td>\n",
       "      <td>0.871955</td>\n",
       "      <td>0.0122585</td>\n",
       "      <td>1.32374</td>\n",
       "      <td>0.0120686</td>\n",
       "      <td>1.12607</td>\n",
       "      <td>0.00345892</td>\n",
       "      <td>0.685166</td>\n",
       "      <td>0</td>\n",
       "      <td>0.000220</td>\n",
       "      <td>-10.8018</td>\n",
       "    </tr>\n",
       "    <tr>\n",
       "      <th>CSS120424_01</th>\n",
       "      <td>0.108515</td>\n",
       "      <td>0.128951</td>\n",
       "      <td>-0.24549</td>\n",
       "      <td>0.068091</td>\n",
       "      <td>0.037242</td>\n",
       "      <td>0.036298</td>\n",
       "      <td>0.000133</td>\n",
       "      <td>salt2</td>\n",
       "      <td>validation</td>\n",
       "      <td>-0.0720962</td>\n",
       "      <td>...</td>\n",
       "      <td>0.807929</td>\n",
       "      <td>0.0232854</td>\n",
       "      <td>1.46578</td>\n",
       "      <td>0.0113712</td>\n",
       "      <td>1.19282</td>\n",
       "      <td>0.00374131</td>\n",
       "      <td>0.618394</td>\n",
       "      <td>0</td>\n",
       "      <td>0.000306</td>\n",
       "      <td>-10.2191</td>\n",
       "    </tr>\n",
       "    <tr>\n",
       "      <th>CSS130502_01</th>\n",
       "      <td>0.20049</td>\n",
       "      <td>0.132244</td>\n",
       "      <td>-0.112965</td>\n",
       "      <td>0.0735518</td>\n",
       "      <td>0.0338079</td>\n",
       "      <td>0.0328</td>\n",
       "      <td>1e-05</td>\n",
       "      <td>salt2</td>\n",
       "      <td>training</td>\n",
       "      <td>-0.0952781</td>\n",
       "      <td>...</td>\n",
       "      <td>0.835131</td>\n",
       "      <td>0.00650982</td>\n",
       "      <td>1.35102</td>\n",
       "      <td>0.0107254</td>\n",
       "      <td>1.14286</td>\n",
       "      <td>0.00297783</td>\n",
       "      <td>0.688074</td>\n",
       "      <td>0</td>\n",
       "      <td>0.000511</td>\n",
       "      <td>-10.385</td>\n",
       "    </tr>\n",
       "    <tr>\n",
       "      <th>LSQ11bk</th>\n",
       "      <td>NaN</td>\n",
       "      <td>NaN</td>\n",
       "      <td>NaN</td>\n",
       "      <td>NaN</td>\n",
       "      <td>NaN</td>\n",
       "      <td>NaN</td>\n",
       "      <td>NaN</td>\n",
       "      <td>NaN</td>\n",
       "      <td>NaN</td>\n",
       "      <td>NaN</td>\n",
       "      <td>...</td>\n",
       "      <td>NaN</td>\n",
       "      <td>NaN</td>\n",
       "      <td>NaN</td>\n",
       "      <td>NaN</td>\n",
       "      <td>NaN</td>\n",
       "      <td>NaN</td>\n",
       "      <td>NaN</td>\n",
       "      <td>NaN</td>\n",
       "      <td>NaN</td>\n",
       "      <td>NaN</td>\n",
       "    </tr>\n",
       "  </tbody>\n",
       "</table>\n",
       "<p>5 rows × 112 columns</p>\n",
       "</div>"
      ],
      "text/plain": [
       "             hubblizer.dmfit_corr hubblizer.dmfit_corr.err  \\\n",
       "CSS110918_01           -0.0294581                 0.762511   \n",
       "CSS110918_02           -0.0108683                 0.126627   \n",
       "CSS120424_01             0.108515                 0.128951   \n",
       "CSS130502_01              0.20049                 0.132244   \n",
       "LSQ11bk                       NaN                      NaN   \n",
       "\n",
       "             hubblizer.dmfit_orig hubblizer.dmfit_orig.err  host.zcmb  \\\n",
       "CSS110918_01            -0.622986                 0.754786  0.0289397   \n",
       "CSS110918_02            -0.168042                0.0655631   0.038086   \n",
       "CSS120424_01             -0.24549                 0.068091   0.037242   \n",
       "CSS130502_01            -0.112965                0.0735518  0.0338079   \n",
       "LSQ11bk                       NaN                      NaN        NaN   \n",
       "\n",
       "             host.zhelio host.zhelio.err idr.saltprefix  idr.subset  \\\n",
       "CSS110918_01        0.03            0.01          salt2  validation   \n",
       "CSS110918_02     0.03935         6.7e-05          salt2    training   \n",
       "CSS120424_01    0.036298        0.000133          salt2  validation   \n",
       "CSS130502_01      0.0328           1e-05          salt2    training   \n",
       "LSQ11bk              NaN             NaN            NaN         NaN   \n",
       "\n",
       "             salt2.Color   ...    phrenology.RSiII6355  \\\n",
       "CSS110918_01   -0.146145   ...                0.777881   \n",
       "CSS110918_02  -0.0600834   ...                0.871955   \n",
       "CSS120424_01  -0.0720962   ...                0.807929   \n",
       "CSS130502_01  -0.0952781   ...                0.835131   \n",
       "LSQ11bk              NaN   ...                     NaN   \n",
       "\n",
       "             phrenology.RSiII6355.err phrenology.RSiS phrenology.RSiS.err  \\\n",
       "CSS110918_01                0.0341189         1.55017           0.0166346   \n",
       "CSS110918_02                0.0122585         1.32374           0.0120686   \n",
       "CSS120424_01                0.0232854         1.46578           0.0113712   \n",
       "CSS130502_01               0.00650982         1.35102           0.0107254   \n",
       "LSQ11bk                           NaN             NaN                 NaN   \n",
       "\n",
       "             phrenology.RSiSS phrenology.RSiSS.err phrenology.Rsjb  \\\n",
       "CSS110918_01          1.26427           0.00243123        0.514112   \n",
       "CSS110918_02          1.12607           0.00345892        0.685166   \n",
       "CSS120424_01          1.19282           0.00374131        0.618394   \n",
       "CSS130502_01          1.14286           0.00297783        0.688074   \n",
       "LSQ11bk                   NaN                  NaN             NaN   \n",
       "\n",
       "             phrenology.Rsjb.err sfr_clean    lssfr  \n",
       "CSS110918_01                   0  0.000207      NaN  \n",
       "CSS110918_02                   0  0.000220 -10.8018  \n",
       "CSS120424_01                   0  0.000306 -10.2191  \n",
       "CSS130502_01                   0  0.000511  -10.385  \n",
       "LSQ11bk                      NaN       NaN      NaN  \n",
       "\n",
       "[5 rows x 112 columns]"
      ]
     },
     "execution_count": 19,
     "metadata": {},
     "output_type": "execute_result"
    }
   ],
   "source": [
    "cleaned_frame.head(5)"
   ]
  },
  {
   "cell_type": "code",
   "execution_count": 50,
   "metadata": {
    "collapsed": false
   },
   "outputs": [
    {
     "data": {
      "image/png": "[encoded data removed]",
      "text/plain": [
       "<matplotlib.figure.Figure at 0x108913ed0>"
      ]
     },
     "metadata": {},
     "output_type": "display_data"
    }
   ],
   "source": [
    "pl = cleaned_frame.plot.scatter(x=\"host.zcmb\",y=\"salt2.X1\",s=80)"
   ]
  },
  {
   "cell_type": "code",
   "execution_count": 58,
   "metadata": {
    "collapsed": false
   },
   "outputs": [
    {
     "data": {
      "image/png": "[encoded data removed]",
      "text/plain": [
       "<matplotlib.figure.Figure at 0x106b4e490>"
      ]
     },
     "metadata": {},
     "output_type": "display_data"
    }
   ],
   "source": [
    "matplotlib.style.use('ggplot')\n",
    "pl = cleaned_frame.plot(x=\"lssfr\",y=\"hubblizer.dmfit_corr\",s=80, kind=\"scatter\")"
   ]
  },
  {
   "cell_type": "code",
   "execution_count": 44,
   "metadata": {
    "collapsed": false
   },
   "outputs": [
    {
     "data": {
      "text/plain": [
       "lssfr                     -11.1204\n",
       "hubblizer.dmfit_corr     0.0843709\n",
       "localmass                  8.13917\n",
       "sfr                     0.00104409\n",
       "Name: SNF20060911-014, dtype: object"
      ]
     },
     "execution_count": 44,
     "metadata": {},
     "output_type": "execute_result"
    }
   ],
   "source": [
    "analysis_frame.loc[\"SNF20060911-014\"][['lssfr',\"hubblizer.dmfit_corr\",\"localmass\",\"sfr\"]]"
   ]
  },
  {
   "cell_type": "code",
   "execution_count": null,
   "metadata": {
    "collapsed": true
   },
   "outputs": [],
   "source": []
  }
 ],
 "metadata": {
  "kernelspec": {
   "display_name": "Python 2",
   "language": "python",
   "name": "python2"
  },
  "language_info": {
   "codemirror_mode": {
    "name": "ipython",
    "version": 2
   },
   "file_extension": ".py",
   "mimetype": "text/x-python",
   "name": "python",
   "nbconvert_exporter": "python",
   "pygments_lexer": "ipython2",
   "version": "2.7.10"
  }
 },
 "nbformat": 4,
 "nbformat_minor": 0
}
